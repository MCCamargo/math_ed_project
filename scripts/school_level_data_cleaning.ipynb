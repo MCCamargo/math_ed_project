{
 "cells": [
  {
   "cell_type": "markdown",
   "id": "41280dad-ef7f-41f8-96fb-be01bd0c1454",
   "metadata": {},
   "source": [
    "# School level data cleaning #"
   ]
  },
  {
   "cell_type": "markdown",
   "id": "9bea63b5-26cc-457e-be7a-b22be0c4526d",
   "metadata": {},
   "source": [
    "Since different states present their school level demographic data in different ways, we have no uniform way of dealing with the data. In order to simplify the process, in this notebook we both clean and standardize column names across states. We also convert the columns that contain entries such as \"$5,234, 567\" or \"1,234\" to floats, in order to be ready to train models/study the data. "
   ]
  },
  {
   "cell_type": "code",
   "execution_count": 213,
   "id": "0fce8c15-de8b-4aff-ac43-a35ab3adcfd5",
   "metadata": {},
   "outputs": [],
   "source": [
    "import pandas as pd\n",
    "import numpy as np\n",
    "import os"
   ]
  },
  {
   "cell_type": "code",
   "execution_count": 145,
   "id": "d0cb9fa8-ce53-48f5-89db-9c0d93d61e92",
   "metadata": {},
   "outputs": [],
   "source": [
    "test_type_dict = {'MA': 'SAT', 'AR':'ACT'}"
   ]
  },
  {
   "cell_type": "markdown",
   "id": "5d8c2297-6de5-42ea-833e-859590b9fb18",
   "metadata": {},
   "source": [
    "## Massachusetts school level data ##"
   ]
  },
  {
   "cell_type": "code",
   "execution_count": 241,
   "id": "64b7b6d6-c0d5-4f86-a799-d50ade11cb80",
   "metadata": {},
   "outputs": [
    {
     "name": "stdout",
     "output_type": "stream",
     "text": [
      "done with 19\n",
      "done with 20\n",
      "done with 21\n",
      "done with 22\n",
      "done with 23\n"
     ]
    }
   ],
   "source": [
    "state_code = 'MA'\n",
    "test_type = test_type_dict[state_code]\n",
    "\n",
    "# we will use this dictionary to rename the columns for MA data for all years. \n",
    "\n",
    "rename_dict = {'School Name': 'school_name', \n",
    "               'Tests Taken': 'tests_taken', \n",
    "               'Reading / Writing': test_type + '_reading_writing',\n",
    "               'Math': test_type + '_math', \n",
    "               'Average Class Size': 'avg_class_size', \n",
    "               'Number of Students': 'number_of_students',\n",
    "               'English Language Learner %': 'perc_english_learner',\n",
    "               'Students with Disabilities %': 'perc_disabilities',\n",
    "               'Economically Disadvantaged %': 'perc_econ_disadvg', \n",
    "               'African American %': 'perc_african_american',\n",
    "               'Asian %': 'perc_asian', \n",
    "               'Hispanic %': 'perc_hispanic', \n",
    "               'White %': 'perc_white', \n",
    "               'Native American %':'perc_native_american',\n",
    "               'Native Hawaiian, Pacific Islander %':'perc_hawaiian_pacific_isl', \n",
    "               'Multi-Race, Non-Hispanic %': 'perc_multi_race_non_hisp',\n",
    "               'Year': 'year',\n",
    "               'Total Expenditures per Pupil':'total_exp_per_pupil'\n",
    "              }\n",
    "\n",
    "for i in range(19,24):\n",
    "    folder = os.path.join(r'C:\\Users\\mauro\\OneDrive\\Desktop\\MATH\\Spring_2025\\Erdos\\project\\project_files\\data', state_code + str(i))\n",
    "    filename = state_code + str(i) + '_Combined_Ed_School_Demographic.csv' \n",
    "    filepath = os.path.join(folder, filename)\n",
    "    df = pd.read_csv(filepath)\n",
    "\n",
    "    # we rename columns and drop rows with missing values\n",
    "    df = df.rename(columns = rename_dict)\n",
    "    df = df.dropna(subset = list(rename_dict.values()))\n",
    "\n",
    "    # there are columns whose values are strings instead of floats or ints; we deal with these.\n",
    "    for col in ['number_of_students', 'total_exp_per_pupil']:\n",
    "        try:\n",
    "            if type(df.iloc[0][col]) == str:\n",
    "                df[col] = df[col].str.strip().str.replace(',', '').str.replace('$', '')\n",
    "        except:\n",
    "            print(\"unable to clean string entry\")\n",
    "        df[col] = df[col].astype(float)\n",
    "\n",
    "    new_filename = state_code + str(i) + '_cleaned_ed_school_demographics.csv'\n",
    "    new_filepath = os.path.join(folder, new_filename)\n",
    "\n",
    "    df.to_csv(new_filepath, index = False)\n",
    "    print('done with', i)\n",
    "\n",
    "    \n",
    "    \n",
    "    "
   ]
  },
  {
   "cell_type": "code",
   "execution_count": null,
   "id": "44d783c9-37f0-4ef7-85a9-6d8e1bf1e72e",
   "metadata": {},
   "outputs": [],
   "source": []
  },
  {
   "cell_type": "code",
   "execution_count": null,
   "id": "f4c5e958-2927-485a-9c50-6a0102be94e6",
   "metadata": {},
   "outputs": [],
   "source": []
  },
  {
   "cell_type": "code",
   "execution_count": 211,
   "id": "ffd395c8-6fa8-4e6f-a608-65789c7e94d7",
   "metadata": {},
   "outputs": [
    {
     "data": {
      "text/plain": [
       "'ACT'"
      ]
     },
     "execution_count": 211,
     "metadata": {},
     "output_type": "execute_result"
    }
   ],
   "source": [
    "test_type"
   ]
  },
  {
   "cell_type": "markdown",
   "id": "bb4cf048-9a8c-4aef-aaa7-552d8432b51a",
   "metadata": {},
   "source": [
    "## Arkansas school level data ##"
   ]
  },
  {
   "cell_type": "code",
   "execution_count": 239,
   "id": "64849e30-7e5f-44e8-950c-479fd86ae96b",
   "metadata": {},
   "outputs": [
    {
     "name": "stdout",
     "output_type": "stream",
     "text": [
      "done with 19\n",
      "done with 21\n",
      "done with 22\n",
      "non-float values in  perc_math_readiness\n",
      "non-float values in  perc_english_readiness\n",
      "non-float values in  perc_reading_readiness\n",
      "non-float values in  perc_science_readiness\n",
      "non-float values in  perc_all_subject_readiness\n",
      "done with 23\n"
     ]
    }
   ],
   "source": [
    "state_code = 'AR'\n",
    "test_type = test_type_dict[state_code]\n",
    "\n",
    "# we will use this dictionary to rename the columns for MA data for all years. \n",
    "\n",
    "rename_dict = {'School Name': 'school_name',\n",
    "               'Math: % Met Readiness Benchmark': 'perc_math_readiness', \n",
    "               'English: % Met Readiness Benchmark': 'perc_english_readiness',\n",
    "               'Reading: % Met Readiness Benchmark': 'perc_reading_readiness',\n",
    "                'Science: % Met Readiness Benchmark': 'perc_science_readiness',\n",
    "               '% Met Readiness Benchmark in all Four Subjects': 'perc_all_subject_readiness', \n",
    "               ' School Enrollment ': 'number_of_students',\n",
    "               'School % FRL': 'perc_frl', \n",
    "               'School % White': 'perc_white', \n",
    "               'School % Hispanic': 'perc_hispanic', \n",
    "               'School % Black': 'perc_african_american',\n",
    "               'School % Other Races': 'perc_other_race', \n",
    "               'School Overall % Minority': 'perc_minority', \n",
    "               'Number of Students in Grade 11': 'number_grade_11_students',\n",
    "               ' Number of Students in grade 11 that took the ACT': 'number_test_taking_grade_11_students',\n",
    "               ' Average ACT Math Score ': test_type + '_math', \n",
    "               ' Average ACT English Score ': test_type + '_english',\n",
    "               ' Average ACT Reading Score ': test_type + '_reading', \n",
    "               ' Average ACT Science Score ': test_type + '_science',\n",
    "               'Average ACT Math Score': test_type + '_math', \n",
    "               'Average ACT English Score': test_type + '_english',\n",
    "               'Average ACT Reading Score': test_type + '_reading', \n",
    "               'Average ACT Science Score': test_type + '_science',\n",
    "               'Is Open Enrollment Charter': 'is_open_enrollment_charter',\n",
    "               ' % Students in grade 11 that took the ACT in 2015-16': 'perc_test_taking_students_15_16',\n",
    "               ' % Students in grade 9-12 that took the ACT': 'perc_test_taking_grades_9_12_students',\n",
    "               ' Number of Students taking AP exams ': 'number_AP_exam_taking_students',\n",
    "               ' Number of AP Exams Taken ': 'number_AP_exams_taken'\n",
    "              }\n",
    "\n",
    "for i in range(19,24):\n",
    "    if i == 20:\n",
    "        continue\n",
    "    folder = os.path.join(r'C:\\Users\\mauro\\OneDrive\\Desktop\\MATH\\Spring_2025\\Erdos\\project\\project_files\\data', state_code + str(i))\n",
    "    filename = state_code + str(i) + '_Combined_Ed_School_Demographic.csv' \n",
    "    filepath = os.path.join(folder, filename)\n",
    "    df = pd.read_csv(filepath)\n",
    "\n",
    "    df['year'] = pd.Series([int('20' + str(i))]*len(df))\n",
    "\n",
    "    df = df.drop('Unnamed: 0', axis = 1)\n",
    "\n",
    "    # we rename columns\n",
    "    df = df.rename(columns = rename_dict)\n",
    "\n",
    "    # there are rows that have the value \"N<10\" for the 'ACT_math' column, indicating that fewer than 10 students took the exam. we set these to NaN so that they are dropped.\n",
    "    df[test_type + '_math'] = df[test_type + '_math'].replace('N<10', np.nan)\n",
    "    df[test_type + '_math'] = pd.to_numeric(df[test_type + '_math'], errors='coerce')\n",
    "    \n",
    "    # we drop the rows that contain NaN values.\n",
    "    for col in list(rename_dict.values()):\n",
    "        if col in list(df.columns):\n",
    "            df = df.dropna(subset = [col])\n",
    "\n",
    "    \n",
    "\n",
    "    # there are columns whose values are strings instead of floats or ints; we deal with these.\n",
    "    for col in ['number_of_students', 'perc_math_readiness', 'number_test_taking_grade_11_students',\n",
    "                'perc_english_readiness', 'perc_reading_readiness',\n",
    "                'perc_science_readiness', 'perc_all_subject_readiness',\n",
    "                'perc_frl', 'perc_white', 'perc_hispanic', 'perc_african_american','perc_other_race',\n",
    "                'perc_minority', 'ACT_math', 'ACT_english','ACT_reading', 'ACT_science',\n",
    "                 'year', 'perc_test_taking_students_15_16', 'perc_test_taking_grades_9_12_students'\n",
    "               ]:\n",
    "        if col in list(df.columns):\n",
    "            try:\n",
    "                if type(df.iloc[0][col]) == str:\n",
    "                    df[col] = df[col].str.strip().str.replace(',', '').str.replace('$', '').str.replace('%', '')\n",
    "            except:\n",
    "                print(\"unable to reformat string\")\n",
    "            try:\n",
    "                df[col] = df[col].astype(float)\n",
    "            except:\n",
    "                print('non-float values in ', col)\n",
    "    \n",
    "\n",
    "    new_filename = state_code + str(i) + '_cleaned_ed_school_demographics.csv'\n",
    "    new_filepath = os.path.join(folder, new_filename)\n",
    "\n",
    "    df.to_csv(new_filepath, index = False)\n",
    "\n",
    "    print('done with', i)\n",
    "    if i == 22:\n",
    "        df_test = df\n",
    "\n",
    "    \n",
    "    "
   ]
  }
 ],
 "metadata": {
  "kernelspec": {
   "display_name": "Python 3 (ipykernel)",
   "language": "python",
   "name": "python3"
  },
  "language_info": {
   "codemirror_mode": {
    "name": "ipython",
    "version": 3
   },
   "file_extension": ".py",
   "mimetype": "text/x-python",
   "name": "python",
   "nbconvert_exporter": "python",
   "pygments_lexer": "ipython3",
   "version": "3.12.8"
  }
 },
 "nbformat": 4,
 "nbformat_minor": 5
}
